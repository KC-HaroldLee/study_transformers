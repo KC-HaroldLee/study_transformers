{
 "cells": [
  {
   "cell_type": "markdown",
   "metadata": {},
   "source": [
    "#### 본 노트북 파일은 방금 퇴근하고 온 스트레스로 가득찬 \"문송한 개발자\"의 기록입니다.<br>😼상당히 많은 폭력적인 표현이 표현되어 있으며 광기 넘치는 문장이 범람하고 있으므로 열람에 주의하여주세요<br>오늘의 스트레스 지수 <font color='red'>80</font>"
   ]
  },
  {
   "cell_type": "code",
   "execution_count": 2,
   "metadata": {},
   "outputs": [
    {
     "name": "stderr",
     "output_type": "stream",
     "text": [
      "/home/kk4ever/anaconda3/envs/hg/lib/python3.10/site-packages/tqdm/auto.py:21: TqdmWarning: IProgress not found. Please update jupyter and ipywidgets. See https://ipywidgets.readthedocs.io/en/stable/user_install.html\n",
      "  from .autonotebook import tqdm as notebook_tqdm\n"
     ]
    }
   ],
   "source": [
    "from transformers import pipeline"
   ]
  },
  {
   "cell_type": "markdown",
   "metadata": {},
   "source": [
    "기본적으로 다운 받아지는 모델,<br>\n",
    "가중치가 있다. 위 메시지처럼 \"distilbert/distilbert-base-uncased-finetuned-sst-2-english\"의 모델이 다운 받아졌고 \"classfier\"로 인스턴스화 되었다."
   ]
  },
  {
   "cell_type": "code",
   "execution_count": 3,
   "metadata": {},
   "outputs": [
    {
     "name": "stderr",
     "output_type": "stream",
     "text": [
      "No model was supplied, defaulted to distilbert/distilbert-base-uncased-finetuned-sst-2-english and revision af0f99b (https://huggingface.co/distilbert/distilbert-base-uncased-finetuned-sst-2-english).\n",
      "Using a pipeline without specifying a model name and revision in production is not recommended.\n"
     ]
    }
   ],
   "source": [
    "classfier = pipeline(\"text-classification\")"
   ]
  },
  {
   "cell_type": "markdown",
   "metadata": {},
   "source": [
    "그렇다면 클래스 이름이 뭔지 살펴보자"
   ]
  },
  {
   "cell_type": "code",
   "execution_count": 4,
   "metadata": {},
   "outputs": [
    {
     "data": {
      "text/plain": [
       "transformers.pipelines.text_classification.TextClassificationPipeline"
      ]
     },
     "execution_count": 4,
     "metadata": {},
     "output_type": "execute_result"
    }
   ],
   "source": [
    "type(classfier)"
   ]
  },
  {
   "cell_type": "markdown",
   "metadata": {},
   "source": [
    "pipeline()으로 리턴 받았으니 당연히 Pipeline클래스를 상속받는 TextClassificationPipeline클래스가 인스턴스화 되었다.<br>\n",
    "__call__()가 오버라이드 되었는데 데이터전처리이후에 부모클래스의 __call__()을 호출한다.<br>\n",
    "<br>\n",
    "아래는 오버라이드 된 __call__()\n",
    "<pre>\n",
    "        inputs = (inputs,)\n",
    "        result = super().__call__(*inputs, **kwargs)\n",
    "        # TODO try and retrieve it in a nicer way from _sanitize_parameters.\n",
    "        _legacy = \"top_k\" not in kwargs\n",
    "        if isinstance(inputs[0], str) and _legacy:\n",
    "            # This pipeline is odd, and return a list when single item is run\n",
    "            return [result]\n",
    "        else:\n",
    "            return result\n",
    "\n",
    "</pre>"
   ]
  },
  {
   "cell_type": "markdown",
   "metadata": {},
   "source": [
    "책에서 \"멋지게\" 출력하자고 제안했다<br>건방지지만 따르도록 했다"
   ]
  },
  {
   "cell_type": "code",
   "execution_count": 5,
   "metadata": {},
   "outputs": [],
   "source": [
    "import pandas as pd"
   ]
  },
  {
   "cell_type": "markdown",
   "metadata": {},
   "source": [
    "1차시도 - ㅋㅋㅋ 아닌데? 긍정 아닌데?"
   ]
  },
  {
   "cell_type": "code",
   "execution_count": 6,
   "metadata": {},
   "outputs": [
    {
     "data": {
      "text/html": [
       "<div>\n",
       "<style scoped>\n",
       "    .dataframe tbody tr th:only-of-type {\n",
       "        vertical-align: middle;\n",
       "    }\n",
       "\n",
       "    .dataframe tbody tr th {\n",
       "        vertical-align: top;\n",
       "    }\n",
       "\n",
       "    .dataframe thead th {\n",
       "        text-align: right;\n",
       "    }\n",
       "</style>\n",
       "<table border=\"1\" class=\"dataframe\">\n",
       "  <thead>\n",
       "    <tr style=\"text-align: right;\">\n",
       "      <th></th>\n",
       "      <th>label</th>\n",
       "      <th>score</th>\n",
       "    </tr>\n",
       "  </thead>\n",
       "  <tbody>\n",
       "    <tr>\n",
       "      <th>0</th>\n",
       "      <td>POSITIVE</td>\n",
       "      <td>0.813539</td>\n",
       "    </tr>\n",
       "  </tbody>\n",
       "</table>\n",
       "</div>"
      ],
      "text/plain": [
       "      label     score\n",
       "0  POSITIVE  0.813539"
      ]
     },
     "execution_count": 6,
     "metadata": {},
     "output_type": "execute_result"
    }
   ],
   "source": [
    "# 임의 텍스트\n",
    "text_1 = ''''The motive of human society is in the last resort an economic one.' \n",
    "It was Freud, not Karl Marx, who made this statement, in his Introductory Lectures on Psychoanalysis. \n",
    "What has dominated human history to date is the need to labour; \n",
    "and for Freud that harsh necessity means that we must repress some of our tendencies to pleasure and gratification.'''\n",
    "\n",
    "outputs_1 = classfier(text_1)\n",
    "pd.DataFrame(outputs_1)"
   ]
  },
  {
   "cell_type": "markdown",
   "metadata": {},
   "source": [
    "2차시도 - 잘했어. 근데 그냥 부정적인 단어가 추가되어서 그런것 같아"
   ]
  },
  {
   "cell_type": "code",
   "execution_count": 7,
   "metadata": {},
   "outputs": [
    {
     "data": {
      "text/html": [
       "<div>\n",
       "<style scoped>\n",
       "    .dataframe tbody tr th:only-of-type {\n",
       "        vertical-align: middle;\n",
       "    }\n",
       "\n",
       "    .dataframe tbody tr th {\n",
       "        vertical-align: top;\n",
       "    }\n",
       "\n",
       "    .dataframe thead th {\n",
       "        text-align: right;\n",
       "    }\n",
       "</style>\n",
       "<table border=\"1\" class=\"dataframe\">\n",
       "  <thead>\n",
       "    <tr style=\"text-align: right;\">\n",
       "      <th></th>\n",
       "      <th>label</th>\n",
       "      <th>score</th>\n",
       "    </tr>\n",
       "  </thead>\n",
       "  <tbody>\n",
       "    <tr>\n",
       "      <th>0</th>\n",
       "      <td>NEGATIVE</td>\n",
       "      <td>0.993207</td>\n",
       "    </tr>\n",
       "  </tbody>\n",
       "</table>\n",
       "</div>"
      ],
      "text/plain": [
       "      label     score\n",
       "0  NEGATIVE  0.993207"
      ]
     },
     "execution_count": 7,
     "metadata": {},
     "output_type": "execute_result"
    }
   ],
   "source": [
    "text_2 = '''It is clear that the child in this state is not even prospectively a citizen\n",
    "who could be relied upon to do a hard day's work. It is anarchic, sadistic,\n",
    "aggressive, self-involved and remorselessly pleasure-seeking, under the\n",
    "sway of what Freud calls the pleasure principle; nor does it have any respect\n",
    "for differences of gender.'''\n",
    "\n",
    "outputs_2 = classfier(text_2)\n",
    "pd.DataFrame(outputs_2)"
   ]
  },
  {
   "cell_type": "markdown",
   "metadata": {},
   "source": [
    "3차시도 - 잘했어. 너는 성차별주의자가 아니구나"
   ]
  },
  {
   "cell_type": "code",
   "execution_count": 8,
   "metadata": {},
   "outputs": [
    {
     "data": {
      "text/html": [
       "<div>\n",
       "<style scoped>\n",
       "    .dataframe tbody tr th:only-of-type {\n",
       "        vertical-align: middle;\n",
       "    }\n",
       "\n",
       "    .dataframe tbody tr th {\n",
       "        vertical-align: top;\n",
       "    }\n",
       "\n",
       "    .dataframe thead th {\n",
       "        text-align: right;\n",
       "    }\n",
       "</style>\n",
       "<table border=\"1\" class=\"dataframe\">\n",
       "  <thead>\n",
       "    <tr style=\"text-align: right;\">\n",
       "      <th></th>\n",
       "      <th>label</th>\n",
       "      <th>score</th>\n",
       "    </tr>\n",
       "  </thead>\n",
       "  <tbody>\n",
       "    <tr>\n",
       "      <th>0</th>\n",
       "      <td>NEGATIVE</td>\n",
       "      <td>0.996146</td>\n",
       "    </tr>\n",
       "  </tbody>\n",
       "</table>\n",
       "</div>"
      ],
      "text/plain": [
       "      label     score\n",
       "0  NEGATIVE  0.996146"
      ]
     },
     "execution_count": 8,
     "metadata": {},
     "output_type": "execute_result"
    }
   ],
   "source": [
    "text_3 = '''The work of psychoanalysis can perhaps best be summarized in one of\n",
    "Freud's own slogans: 'Where id was, there shall ego be.' Where men and women were in the paralysing \n",
    "grip of forces which they could not comprehend, there reason and self-mastery shall reign.\n",
    "Such a slogan makes Freud sound rather more of a rationalist than he actually was'''\n",
    "\n",
    "outputs_3 = classfier(text_3)\n",
    "pd.DataFrame(outputs_3)"
   ]
  },
  {
   "cell_type": "code",
   "execution_count": 9,
   "metadata": {},
   "outputs": [
    {
     "data": {
      "text/html": [
       "<div>\n",
       "<style scoped>\n",
       "    .dataframe tbody tr th:only-of-type {\n",
       "        vertical-align: middle;\n",
       "    }\n",
       "\n",
       "    .dataframe tbody tr th {\n",
       "        vertical-align: top;\n",
       "    }\n",
       "\n",
       "    .dataframe thead th {\n",
       "        text-align: right;\n",
       "    }\n",
       "</style>\n",
       "<table border=\"1\" class=\"dataframe\">\n",
       "  <thead>\n",
       "    <tr style=\"text-align: right;\">\n",
       "      <th></th>\n",
       "      <th>label</th>\n",
       "      <th>score</th>\n",
       "    </tr>\n",
       "  </thead>\n",
       "  <tbody>\n",
       "    <tr>\n",
       "      <th>0</th>\n",
       "      <td>POSITIVE</td>\n",
       "      <td>0.969136</td>\n",
       "    </tr>\n",
       "  </tbody>\n",
       "</table>\n",
       "</div>"
      ],
      "text/plain": [
       "      label     score\n",
       "0  POSITIVE  0.969136"
      ]
     },
     "execution_count": 9,
     "metadata": {},
     "output_type": "execute_result"
    }
   ],
   "source": [
    "text_4 = '''It is opposed to all\n",
    "fixed, transcendental significations; and since the ideologies of modern\n",
    "male-dominated class-society rely on such fixed signs for their power (God,\n",
    "father, state, order, property and so on), such literature becomes a kind of \n",
    "equivalent in the realm of language to revolution in the sphere of politics.'''\n",
    "\n",
    "outputs_4 = classfier(text_4)\n",
    "pd.DataFrame(outputs_4)"
   ]
  },
  {
   "cell_type": "markdown",
   "metadata": {},
   "source": [
    "4차시도_추가 - 뒤의 문장을 추가하면 부정적이된다 - 휴 다행, 진심으로 파괴할 뻔"
   ]
  },
  {
   "cell_type": "code",
   "execution_count": 10,
   "metadata": {},
   "outputs": [
    {
     "data": {
      "text/html": [
       "<div>\n",
       "<style scoped>\n",
       "    .dataframe tbody tr th:only-of-type {\n",
       "        vertical-align: middle;\n",
       "    }\n",
       "\n",
       "    .dataframe tbody tr th {\n",
       "        vertical-align: top;\n",
       "    }\n",
       "\n",
       "    .dataframe thead th {\n",
       "        text-align: right;\n",
       "    }\n",
       "</style>\n",
       "<table border=\"1\" class=\"dataframe\">\n",
       "  <thead>\n",
       "    <tr style=\"text-align: right;\">\n",
       "      <th></th>\n",
       "      <th>label</th>\n",
       "      <th>score</th>\n",
       "    </tr>\n",
       "  </thead>\n",
       "  <tbody>\n",
       "    <tr>\n",
       "      <th>0</th>\n",
       "      <td>NEGATIVE</td>\n",
       "      <td>0.996108</td>\n",
       "    </tr>\n",
       "  </tbody>\n",
       "</table>\n",
       "</div>"
      ],
      "text/plain": [
       "      label     score\n",
       "0  NEGATIVE  0.996108"
      ]
     },
     "execution_count": 10,
     "metadata": {},
     "output_type": "execute_result"
    }
   ],
   "source": [
    "text_4_add = '''It is opposed to all\n",
    "fixed, transcendental significations; and since the ideologies of modern\n",
    "male-dominated class-society rely on such fixed signs for their power (God,\n",
    "father, state, order, property and so on), such literature becomes a kind of\n",
    "equivalent in the realm of language to revolution in the sphere of\n",
    "politics. The reader of such texts is equally disrupted or 'decentred' by this\n",
    "linguistic force, thrown into contradiction, unable to take up any one, simple\n",
    "'subject-position' in relation to these polymorphous works.'''\n",
    "\n",
    "outputs_4_add = classfier(text_4_add)\n",
    "pd.DataFrame(outputs_4_add)"
   ]
  },
  {
   "cell_type": "markdown",
   "metadata": {},
   "source": [
    "5차시도 - 그렇다면 이 문장은 어떨까, 일단 오케이 부정적이 나올 줄은 예상했어"
   ]
  },
  {
   "cell_type": "code",
   "execution_count": 11,
   "metadata": {},
   "outputs": [
    {
     "data": {
      "text/html": [
       "<div>\n",
       "<style scoped>\n",
       "    .dataframe tbody tr th:only-of-type {\n",
       "        vertical-align: middle;\n",
       "    }\n",
       "\n",
       "    .dataframe tbody tr th {\n",
       "        vertical-align: top;\n",
       "    }\n",
       "\n",
       "    .dataframe thead th {\n",
       "        text-align: right;\n",
       "    }\n",
       "</style>\n",
       "<table border=\"1\" class=\"dataframe\">\n",
       "  <thead>\n",
       "    <tr style=\"text-align: right;\">\n",
       "      <th></th>\n",
       "      <th>label</th>\n",
       "      <th>score</th>\n",
       "    </tr>\n",
       "  </thead>\n",
       "  <tbody>\n",
       "    <tr>\n",
       "      <th>0</th>\n",
       "      <td>NEGATIVE</td>\n",
       "      <td>0.958757</td>\n",
       "    </tr>\n",
       "  </tbody>\n",
       "</table>\n",
       "</div>"
      ],
      "text/plain": [
       "      label     score\n",
       "0  NEGATIVE  0.958757"
      ]
     },
     "execution_count": 11,
     "metadata": {},
     "output_type": "execute_result"
    }
   ],
   "source": [
    "text_5 = '''The semiotic\n",
    "throws into confusion all tight divisions between masculine and feminine -\n",
    "it is a 'bisexual' form of writing - and offers to deconstruct all the\n",
    "scrupulous binary oppositions — proper/improper, norm/deviation, sane/\n",
    "mad, mine/yours, authority/obedience — by which societies such as ours\n",
    "survive'''\n",
    "\n",
    "outputs_5 = classfier(text_5)\n",
    "pd.DataFrame(outputs_5)"
   ]
  },
  {
   "cell_type": "markdown",
   "metadata": {},
   "source": [
    "5차시도_추가 - 이해할 수 있는 범위까지 내용을 전부 넣어봄"
   ]
  },
  {
   "cell_type": "code",
   "execution_count": 12,
   "metadata": {},
   "outputs": [
    {
     "data": {
      "text/html": [
       "<div>\n",
       "<style scoped>\n",
       "    .dataframe tbody tr th:only-of-type {\n",
       "        vertical-align: middle;\n",
       "    }\n",
       "\n",
       "    .dataframe tbody tr th {\n",
       "        vertical-align: top;\n",
       "    }\n",
       "\n",
       "    .dataframe thead th {\n",
       "        text-align: right;\n",
       "    }\n",
       "</style>\n",
       "<table border=\"1\" class=\"dataframe\">\n",
       "  <thead>\n",
       "    <tr style=\"text-align: right;\">\n",
       "      <th></th>\n",
       "      <th>label</th>\n",
       "      <th>score</th>\n",
       "    </tr>\n",
       "  </thead>\n",
       "  <tbody>\n",
       "    <tr>\n",
       "      <th>0</th>\n",
       "      <td>NEGATIVE</td>\n",
       "      <td>0.990941</td>\n",
       "    </tr>\n",
       "  </tbody>\n",
       "</table>\n",
       "</div>"
      ],
      "text/plain": [
       "      label     score\n",
       "0  NEGATIVE  0.990941"
      ]
     },
     "execution_count": 12,
     "metadata": {},
     "output_type": "execute_result"
    }
   ],
   "source": [
    "text_5_add = '''In her book La Revolution du langage poetique (1974), Kristeva\n",
    "therefore opposes to the symbolic not so much the imaginary, as what she\n",
    "terms the 'semiotic'. She means by this a pattern or play of forces which we\n",
    "can detect inside language, and which represents a sort of residue of the preOedipal phase.\n",
    "Kristeva looks to this 'language' of the semiotic as a means of undermining the symbolic order. \n",
    "In the writings of some of the French Symbolist\n",
    "poets and other avant-garde authors, the relatively secure meanings of'ordinary' \n",
    "language are harassed and disrupted by this flow of signification, which\n",
    "presses the linguistic sign to its extreme limit, values its tonal, rhythmic and\n",
    "material properties, and sets up a play of unconscious drives in the text\n",
    "which threatens to split apart received social meanings. The semiotic is fluid\n",
    "and plural, a kind of pleasurable creative excess over precise meaning, and it\n",
    "takes sadistic delight in destroying or negating such signs. It is opposed to all\n",
    "fixed, transcendental significations; and since the ideologies of modern\n",
    "male-dominated class-society rely on such fixed signs for their power (God,\n",
    "father, state, order, property and so on), such literature becomes a kind of\n",
    "equivalent in the realm of language to revolution in the sphere of\n",
    "politics. The reader of such texts is equally disrupted or 'decentred' by this\n",
    "linguistic force, thrown into contradiction, unable to take up any one, simple\n",
    "'subject-position' in relation to these polymorphous works. The semiotic\n",
    "throws into confusion all tight divisions between masculine and feminine -\n",
    "it is a 'bisexual' form of writing - and offers to deconstruct all the\n",
    "scrupulous binary oppositions — proper/improper, norm/deviation, sane/\n",
    "mad, mine/yours, authority/obedience — by which societies such as ours\n",
    "survive.\n",
    "'''\n",
    "\n",
    "outputs_5_add = classfier(text_5_add)\n",
    "pd.DataFrame(outputs_5_add)"
   ]
  },
  {
   "cell_type": "markdown",
   "metadata": {},
   "source": [
    "결론 : 성능이 좋지 않다는 결론이 아니다. 각 도메인에 맞는 양질의 데이터로 학습해야한다는 중요성을 체크 했을 뿐"
   ]
  },
  {
   "cell_type": "markdown",
   "metadata": {},
   "source": [
    "마지막으로 \"우리는 정말 나아지는가\"에 대한 질문"
   ]
  },
  {
   "cell_type": "code",
   "execution_count": 13,
   "metadata": {},
   "outputs": [
    {
     "data": {
      "text/html": [
       "<div>\n",
       "<style scoped>\n",
       "    .dataframe tbody tr th:only-of-type {\n",
       "        vertical-align: middle;\n",
       "    }\n",
       "\n",
       "    .dataframe tbody tr th {\n",
       "        vertical-align: top;\n",
       "    }\n",
       "\n",
       "    .dataframe thead th {\n",
       "        text-align: right;\n",
       "    }\n",
       "</style>\n",
       "<table border=\"1\" class=\"dataframe\">\n",
       "  <thead>\n",
       "    <tr style=\"text-align: right;\">\n",
       "      <th></th>\n",
       "      <th>label</th>\n",
       "      <th>score</th>\n",
       "    </tr>\n",
       "  </thead>\n",
       "  <tbody>\n",
       "    <tr>\n",
       "      <th>0</th>\n",
       "      <td>POSITIVE</td>\n",
       "      <td>0.999785</td>\n",
       "    </tr>\n",
       "  </tbody>\n",
       "</table>\n",
       "</div>"
      ],
      "text/plain": [
       "      label     score\n",
       "0  POSITIVE  0.999785"
      ]
     },
     "execution_count": 13,
     "metadata": {},
     "output_type": "execute_result"
    }
   ],
   "source": [
    "extra_1 = '''Early morning city buses run with unexpected and brilliant decorations on the windows.\n",
    "The frosty flower that blooms brighter in harsh winters\n",
    "The breath and breath of the virgin, bachelor, child, adult, hairdresser, salesman, housekeeper, and unemployed person who rode this bus yesterday met secretly last night and created a sparkling and amazing beauty.\n",
    "As if I were at some kind of exhibition, I move around and look at a single flower leaf and become intoxicated by its delicate yet cold beauty.'''\n",
    "\n",
    "extra_output_1 = classfier(extra_1)\n",
    "pd.DataFrame(extra_output_1)"
   ]
  },
  {
   "cell_type": "code",
   "execution_count": 15,
   "metadata": {},
   "outputs": [
    {
     "data": {
      "text/html": [
       "<div>\n",
       "<style scoped>\n",
       "    .dataframe tbody tr th:only-of-type {\n",
       "        vertical-align: middle;\n",
       "    }\n",
       "\n",
       "    .dataframe tbody tr th {\n",
       "        vertical-align: top;\n",
       "    }\n",
       "\n",
       "    .dataframe thead th {\n",
       "        text-align: right;\n",
       "    }\n",
       "</style>\n",
       "<table border=\"1\" class=\"dataframe\">\n",
       "  <thead>\n",
       "    <tr style=\"text-align: right;\">\n",
       "      <th></th>\n",
       "      <th>label</th>\n",
       "      <th>score</th>\n",
       "    </tr>\n",
       "  </thead>\n",
       "  <tbody>\n",
       "    <tr>\n",
       "      <th>0</th>\n",
       "      <td>POSITIVE</td>\n",
       "      <td>0.915251</td>\n",
       "    </tr>\n",
       "  </tbody>\n",
       "</table>\n",
       "</div>"
      ],
      "text/plain": [
       "      label     score\n",
       "0  POSITIVE  0.915251"
      ]
     },
     "execution_count": 15,
     "metadata": {},
     "output_type": "execute_result"
    }
   ],
   "source": [
    "extra_2 = '''Whether it is someone's heavy sigh or the passionate breath of a hot heart, I erase a leaf of frost with my finger and look at it with my breath without any hesitation.\n",
    "My friend, whose face is young and dull against the rattling window, has been walking down the street with me for a long time, but is now forbidden to even visit me.'''\n",
    "\n",
    "extra_output_2 = classfier(extra_2)\n",
    "pd.DataFrame(extra_output_2)"
   ]
  },
  {
   "cell_type": "code",
   "execution_count": 16,
   "metadata": {},
   "outputs": [
    {
     "data": {
      "text/html": [
       "<div>\n",
       "<style scoped>\n",
       "    .dataframe tbody tr th:only-of-type {\n",
       "        vertical-align: middle;\n",
       "    }\n",
       "\n",
       "    .dataframe tbody tr th {\n",
       "        vertical-align: top;\n",
       "    }\n",
       "\n",
       "    .dataframe thead th {\n",
       "        text-align: right;\n",
       "    }\n",
       "</style>\n",
       "<table border=\"1\" class=\"dataframe\">\n",
       "  <thead>\n",
       "    <tr style=\"text-align: right;\">\n",
       "      <th></th>\n",
       "      <th>label</th>\n",
       "      <th>score</th>\n",
       "    </tr>\n",
       "  </thead>\n",
       "  <tbody>\n",
       "    <tr>\n",
       "      <th>0</th>\n",
       "      <td>POSITIVE</td>\n",
       "      <td>0.999302</td>\n",
       "    </tr>\n",
       "  </tbody>\n",
       "</table>\n",
       "</div>"
      ],
      "text/plain": [
       "      label     score\n",
       "0  POSITIVE  0.999302"
      ]
     },
     "execution_count": 16,
     "metadata": {},
     "output_type": "execute_result"
    }
   ],
   "source": [
    "extra_output = classfier(extra_1 + extra_2)\n",
    "pd.DataFrame(extra_output)"
   ]
  }
 ],
 "metadata": {
  "kernelspec": {
   "display_name": "hg",
   "language": "python",
   "name": "python3"
  },
  "language_info": {
   "codemirror_mode": {
    "name": "ipython",
    "version": 3
   },
   "file_extension": ".py",
   "mimetype": "text/x-python",
   "name": "python",
   "nbconvert_exporter": "python",
   "pygments_lexer": "ipython3",
   "version": "3.10.14"
  }
 },
 "nbformat": 4,
 "nbformat_minor": 2
}
